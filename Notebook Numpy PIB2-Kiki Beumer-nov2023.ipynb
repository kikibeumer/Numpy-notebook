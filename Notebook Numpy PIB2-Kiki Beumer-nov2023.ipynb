{
 "cells": [
  {
   "cell_type": "markdown",
   "metadata": {},
   "source": [
    "**ChatGPT is forbidden**"
   ]
  },
  {
   "cell_type": "markdown",
   "metadata": {},
   "source": [
    "**Data generation**"
   ]
  },
  {
   "cell_type": "markdown",
   "metadata": {},
   "source": [
    "Create and visualize arrays containing only real numbers, then integers, then strings, then a mix of integers and strings"
   ]
  },
  {
   "cell_type": "code",
   "execution_count": 8,
   "metadata": {},
   "outputs": [
    {
     "name": "stdout",
     "output_type": "stream",
     "text": [
      "Array containing real numbers:\n",
      "[[0.7772242  0.7287191  0.79842016]\n",
      " [0.82951824 0.38998667 0.17298929]] \n",
      "\n",
      "Array containing integers:\n",
      "[[8 5 9]\n",
      " [6 5 9]] \n",
      "\n",
      "Array containing strings:\n",
      "['Hello, world!' 'Python' 'Hello, Python'] \n",
      "\n",
      "Array containing a mix of types:\n",
      "['Hello World' '456' 'Python' '12.56'] \n",
      "\n"
     ]
    }
   ],
   "source": [
    "import numpy as np \n",
    "\n",
    "print(\"Array containing real numbers:\")\n",
    "print(np.random.random((2,3)),'\\n')\n",
    "\n",
    "print(\"Array containing integers:\")\n",
    "print(np.random.randint(4,10,6).reshape((2,3)),'\\n')\n",
    "\n",
    "print(\"Array containing strings:\")\n",
    "str = np.array(['Hello, world!', 'Python', 'Hello, Python'])\n",
    "print(str,'\\n')\n",
    "\n",
    "print(\"Array containing a mix of types:\")\n",
    "mix= np.array([\"Hello World\", 456, \"Python\", 12.56])\n",
    "print(mix,'\\n')\n"
   ]
  },
  {
   "cell_type": "markdown",
   "metadata": {},
   "source": [
    "Add two arrays made of integers, element by element (the two arrays must be the same size)"
   ]
  },
  {
   "cell_type": "code",
   "execution_count": 13,
   "metadata": {},
   "outputs": [
    {
     "name": "stdout",
     "output_type": "stream",
     "text": [
      "[[ 6  8 10]\n",
      " [12 14 16]]\n"
     ]
    }
   ],
   "source": [
    "arr1 = np.arange(1,7).reshape((2,3))\n",
    "arr2 = np.arange(5,11).reshape((2,3))\n",
    "print(arr1+arr2)"
   ]
  },
  {
   "cell_type": "markdown",
   "metadata": {},
   "source": [
    "Create a 3*3 array including only zeros on the first line, then 1s on the second line, then the number 5 on the third line"
   ]
  },
  {
   "cell_type": "code",
   "execution_count": 18,
   "metadata": {},
   "outputs": [
    {
     "name": "stdout",
     "output_type": "stream",
     "text": [
      "[[0. 0. 0.]\n",
      " [1. 1. 1.]\n",
      " [5. 5. 5.]]\n"
     ]
    }
   ],
   "source": [
    "array = np.zeros((3,3))\n",
    "array[1,:]=1\n",
    "array[2,:]=5\n",
    "\n",
    "print(array)\n"
   ]
  },
  {
   "cell_type": "markdown",
   "metadata": {},
   "source": [
    "Extract the shape attribute from this array"
   ]
  },
  {
   "cell_type": "code",
   "execution_count": 16,
   "metadata": {},
   "outputs": [
    {
     "name": "stdout",
     "output_type": "stream",
     "text": [
      "(3, 3)\n"
     ]
    }
   ],
   "source": [
    "print(array.shape)"
   ]
  },
  {
   "cell_type": "markdown",
   "metadata": {},
   "source": [
    "Create an array of 3 by 3 by 3 including only real numbers chosen from a normal distribution"
   ]
  },
  {
   "cell_type": "code",
   "execution_count": 20,
   "metadata": {},
   "outputs": [
    {
     "name": "stdout",
     "output_type": "stream",
     "text": [
      "[[[ 1.58858193 -1.53626031 -0.00847496]\n",
      "  [ 0.71443296  0.72729108 -0.84708243]\n",
      "  [-0.14497905  0.79525223 -0.38274029]]\n",
      "\n",
      " [[-0.61481316 -2.12755739  1.2573676 ]\n",
      "  [-0.09799005  0.95006334 -1.86802384]\n",
      "  [ 0.71794739  0.49580977 -1.97168324]]\n",
      "\n",
      " [[ 0.74584724 -1.00901646 -0.27044614]\n",
      "  [-0.24642214 -0.03922286 -0.66213093]\n",
      "  [ 0.41490845 -0.10759187 -1.14135282]]]\n"
     ]
    }
   ],
   "source": [
    "print(np.random.normal(size=(3,3,3)))\n"
   ]
  },
  {
   "cell_type": "markdown",
   "metadata": {},
   "source": [
    "Create a vector comprising 7 equally spaced values, between 2 and 3"
   ]
  },
  {
   "cell_type": "code",
   "execution_count": 26,
   "metadata": {},
   "outputs": [
    {
     "name": "stdout",
     "output_type": "stream",
     "text": [
      "[2.         2.16666667 2.33333333 2.5        2.66666667 2.83333333\n",
      " 3.        ]\n"
     ]
    }
   ],
   "source": [
    "linarray = np.linspace(2,3,7)\n",
    "print(linarray)"
   ]
  },
  {
   "cell_type": "markdown",
   "metadata": {},
   "source": [
    "Use the choice function to sample 5 values ​​from this last vector, once with replacement, and once without replacement"
   ]
  },
  {
   "cell_type": "code",
   "execution_count": 31,
   "metadata": {},
   "outputs": [
    {
     "name": "stdout",
     "output_type": "stream",
     "text": [
      "Array without replacement:\n",
      "[2.66666667 2.16666667 2.5        2.33333333 3.        ] \n",
      "\n",
      "Array with replacement:\n",
      "[2.33333333 2.83333333 2.         2.         2.33333333] \n",
      "\n"
     ]
    }
   ],
   "source": [
    "print(\"Array without replacement:\")\n",
    "print(np.random.choice(linarray, size = (5, ), replace= False), '\\n')\n",
    "\n",
    "print(\"Array with replacement:\")\n",
    "print(np.random.choice(linarray, size = (5, ), replace= True), '\\n')"
   ]
  },
  {
   "cell_type": "markdown",
   "metadata": {},
   "source": [
    "Create a vector corresponding to a sequence of numbers, from 13 to 19, counting in steps of one"
   ]
  },
  {
   "cell_type": "code",
   "execution_count": 33,
   "metadata": {},
   "outputs": [
    {
     "data": {
      "text/plain": [
       "array([13, 14, 15, 16, 17, 18, 19])"
      ]
     },
     "execution_count": 33,
     "metadata": {},
     "output_type": "execute_result"
    }
   ],
   "source": [
    "np.arange(13,20)"
   ]
  },
  {
   "cell_type": "markdown",
   "metadata": {},
   "source": [
    "Create a 5*5 identity matrix"
   ]
  },
  {
   "cell_type": "code",
   "execution_count": 37,
   "metadata": {},
   "outputs": [
    {
     "name": "stdout",
     "output_type": "stream",
     "text": [
      "[[1. 0. 0. 0. 0.]\n",
      " [0. 1. 0. 0. 0.]\n",
      " [0. 0. 1. 0. 0.]\n",
      " [0. 0. 0. 1. 0.]\n",
      " [0. 0. 0. 0. 1.]]\n"
     ]
    }
   ],
   "source": [
    "i_matrix = np.identity(5)\n",
    "print(i_matrix)"
   ]
  },
  {
   "cell_type": "markdown",
   "metadata": {},
   "source": [
    "Create a 5*5 matrix of zeros, with 1 on the diagonal. Then specifically extract this diagonal"
   ]
  },
  {
   "cell_type": "code",
   "execution_count": 38,
   "metadata": {},
   "outputs": [
    {
     "data": {
      "text/plain": [
       "array([1., 1., 1., 1., 1.])"
      ]
     },
     "execution_count": 38,
     "metadata": {},
     "output_type": "execute_result"
    }
   ],
   "source": [
    "np.diag(i_matrix)"
   ]
  },
  {
   "cell_type": "markdown",
   "metadata": {},
   "source": [
    "Complete this NumPy line to determine if the elements of a vector are finite (not infinite or not\n",
    "a number)"
   ]
  },
  {
   "cell_type": "code",
   "execution_count": 39,
   "metadata": {},
   "outputs": [
    {
     "name": "stdout",
     "output_type": "stream",
     "text": [
      "[ True  True False False]\n"
     ]
    }
   ],
   "source": [
    "a = np.array([1, 0, np.nan, np.inf]) \n",
    "print(np.isfinite(a))"
   ]
  },
  {
   "cell_type": "markdown",
   "metadata": {},
   "source": [
    "Complete this NumPy program to test element by element if it corresponds to infinity (positive\n",
    "or negative)"
   ]
  },
  {
   "cell_type": "code",
   "execution_count": 41,
   "metadata": {},
   "outputs": [
    {
     "name": "stdout",
     "output_type": "stream",
     "text": [
      "[False False False  True]\n"
     ]
    }
   ],
   "source": [
    "np.array([1, 0, np.nan, np.inf])\n",
    "print(np.isinf(a))"
   ]
  },
  {
   "cell_type": "markdown",
   "metadata": {},
   "source": [
    "Complete this NumPy program to perform a comparison by element (equal, then equal to\n",
    "a certain tolerance) of two given tables"
   ]
  },
  {
   "cell_type": "code",
   "execution_count": 42,
   "metadata": {},
   "outputs": [
    {
     "name": "stdout",
     "output_type": "stream",
     "text": [
      "[ True  True  True  True  True  True False]\n"
     ]
    }
   ],
   "source": [
    "x = np.array([72, 79, -135, 120, -10, 60, 100])\n",
    "y = np.array([72, 79, -135, 120, -10, 60, 100.01])\n",
    "print(np.equal(x, y))"
   ]
  },
  {
   "cell_type": "markdown",
   "metadata": {},
   "source": [
    "**Subsetting & reshaping**"
   ]
  },
  {
   "cell_type": "markdown",
   "metadata": {},
   "source": [
    "Create an array of 7 by 7 including only real numbers chosen from a normal distribution, then select only the first row, the first column, all columns up to the third, and the element of the second column and third row"
   ]
  },
  {
   "cell_type": "code",
   "execution_count": 56,
   "metadata": {},
   "outputs": [
    {
     "name": "stdout",
     "output_type": "stream",
     "text": [
      "[[ 0.90476893 -0.81501987]\n",
      " [-0.90548884  0.33411793]\n",
      " [-2.82039176  0.3924891 ]\n",
      " [ 0.38052009 -0.76251604]\n",
      " [ 1.15815598  1.4104884 ]\n",
      " [-1.09862681 -0.85991487]\n",
      " [ 0.14641439 -1.03358883]] \n",
      "\n"
     ]
    }
   ],
   "source": [
    "arr_nor = np.random.normal(size=(7,7))\n",
    "print(arr_nor[:,0:2], '\\n')"
   ]
  },
  {
   "cell_type": "code",
   "execution_count": 55,
   "metadata": {},
   "outputs": [
    {
     "name": "stdout",
     "output_type": "stream",
     "text": [
      "Original array:\n",
      "[[ 1.40263431e-01  2.53830426e+00  6.94590476e-01  1.05876718e+00\n",
      "  -9.48349853e-02 -2.18849880e-01 -4.54385721e-01]\n",
      " [ 6.72156909e-01 -6.16828411e-01  2.97096981e-01 -2.44766772e-02\n",
      "   1.56598327e-01  1.44606965e+00  5.96292130e-01]\n",
      " [ 7.08395412e-02 -1.31659200e+00  7.69591050e-01  1.10212965e-01\n",
      "  -4.66056422e-01 -1.48143798e-02  4.16968448e-01]\n",
      " [ 1.01478031e+00 -1.36936792e+00 -4.72476462e-01 -1.38257054e+00\n",
      "   5.78887674e-01 -3.36484479e-01 -3.87394316e-01]\n",
      " [ 1.91927027e+00 -5.31810172e-01  3.54519512e-02 -8.55149852e-01\n",
      "   1.54644490e+00  1.19348201e+00 -1.65182525e+00]\n",
      " [ 4.56528834e-01 -9.12970572e-02 -1.95319793e-01  1.08673333e-02\n",
      "   4.50682410e-01 -4.47053540e-01 -1.20451201e+00]\n",
      " [ 1.86458869e+00  6.27349022e-01  5.75702733e-01 -1.39733688e+00\n",
      "   1.76976341e-03 -2.71313511e-01  7.30751801e-01]] \n",
      "\n",
      "First row:\n",
      "[ 0.14026343  2.53830426  0.69459048  1.05876718 -0.09483499 -0.21884988\n",
      " -0.45438572] \n",
      "\n",
      "First column:\n",
      "[0.14026343 0.67215691 0.07083954 1.01478031 1.91927027 0.45652883\n",
      " 1.86458869] \n",
      "\n",
      "First and second column:\n",
      "[[ 0.14026343  2.53830426]\n",
      " [ 0.67215691 -0.61682841]\n",
      " [ 0.07083954 -1.316592  ]\n",
      " [ 1.01478031 -1.36936792]\n",
      " [ 1.91927027 -0.53181017]\n",
      " [ 0.45652883 -0.09129706]\n",
      " [ 1.86458869  0.62734902]] \n",
      "\n",
      "Second column:\n",
      "[ 2.53830426 -0.61682841 -1.316592   -1.36936792 -0.53181017 -0.09129706\n",
      "  0.62734902] \n",
      "\n",
      "Second column, third row:\n",
      "-1.316591998040007 \n",
      "\n"
     ]
    }
   ],
   "source": [
    "arr_nor = np.random.normal(size=(7,7))\n",
    "print(\"Original array:\")\n",
    "print(arr_nor, '\\n')\n",
    "\n",
    "print(\"First row:\")\n",
    "print(arr_nor[0,:], '\\n')\n",
    "\n",
    "print(\"First column:\")\n",
    "print(arr_nor[:,0], '\\n')\n",
    "\n",
    "print(\"First and second column:\")\n",
    "print(arr_nor[:,0:2], '\\n')\n",
    "\n",
    "print(\"Second column:\")\n",
    "print(arr_nor[:,1], '\\n')\n",
    "\n",
    "print(\"Second column, third row:\")\n",
    "print(arr_nor[2,1], '\\n')\n"
   ]
  },
  {
   "cell_type": "markdown",
   "metadata": {},
   "source": [
    "Create an array that is the repetition of one 1, two 2s, and three 3s, then from this vector, create a new array including the \"unique\" values ​​(i.e., 1, 2, and 3)"
   ]
  },
  {
   "cell_type": "code",
   "execution_count": 60,
   "metadata": {},
   "outputs": [
    {
     "data": {
      "text/plain": [
       "array([1, 2, 3])"
      ]
     },
     "execution_count": 60,
     "metadata": {},
     "output_type": "execute_result"
    }
   ],
   "source": [
    "#first array gives the values, second array is how many times it is repeated\n",
    "np.unique(np.repeat([1,2,3],[1,2,3]))"
   ]
  },
  {
   "cell_type": "markdown",
   "metadata": {},
   "source": [
    "Create a 5*5 array of randomly chosen integers, then transpose this matrix."
   ]
  },
  {
   "cell_type": "code",
   "execution_count": 65,
   "metadata": {},
   "outputs": [
    {
     "name": "stdout",
     "output_type": "stream",
     "text": [
      "Original array: \n",
      " [[2 3 3]\n",
      " [7 4 1]\n",
      " [4 3 6]]\n",
      "Transposed array \n",
      " [[2 7 4]\n",
      " [3 4 3]\n",
      " [3 1 6]]\n"
     ]
    }
   ],
   "source": [
    "arr_random = np.random.randint(1,10,9).reshape(3,3)\n",
    "print(\"Original array: \\n\", arr_random)\n",
    "print(\"Transposed array \\n\", np.transpose(arr_random))"
   ]
  },
  {
   "cell_type": "markdown",
   "metadata": {},
   "source": [
    "Create a vector of 25 successive integers, then use reshape to make it a 5*5 matrix. Then play with the reshape function to illustrate how it works"
   ]
  },
  {
   "cell_type": "code",
   "execution_count": 69,
   "metadata": {},
   "outputs": [
    {
     "name": "stdout",
     "output_type": "stream",
     "text": [
      "Original array: \n",
      "\n",
      "[ 1  2  3  4  5  6  7  8  9 10 11 12 13 14 15 16 17 18 19 20 21 22 23 24\n",
      " 25]\n",
      "Reshaped array: \n",
      "\n",
      "[[ 1  2  3  4  5]\n",
      " [ 6  7  8  9 10]\n",
      " [11 12 13 14 15]\n",
      " [16 17 18 19 20]\n",
      " [21 22 23 24 25]]\n"
     ]
    }
   ],
   "source": [
    "print(\"Original array: \\n\")\n",
    "print(np.arange(1,26))\n",
    "\n",
    "print(\"Reshaped array: \\n\")\n",
    "print(np.arange(1,26).reshape((5,5)))"
   ]
  },
  {
   "cell_type": "markdown",
   "metadata": {},
   "source": [
    "Make a broadcast of two arrays of your design"
   ]
  },
  {
   "cell_type": "code",
   "execution_count": 77,
   "metadata": {},
   "outputs": [
    {
     "name": "stdout",
     "output_type": "stream",
     "text": [
      "Original array: \n",
      " [[1 2 3]\n",
      " [7 8 9]]\n",
      "Vectorized operation array*3: \n",
      " [[ 3  6  9]\n",
      " [21 24 27]]\n"
     ]
    }
   ],
   "source": [
    "array2 = np.array([[1,2,3], [7,8,9]])\n",
    "print(\"Original array: \\n\", array2)\n",
    "\n",
    "print(\"Vectorized operation array*3: \\n\", array2*3)"
   ]
  },
  {
   "cell_type": "markdown",
   "metadata": {},
   "source": [
    "Illustrate “type casting” by changing the data type contained in an array of your choice"
   ]
  },
  {
   "cell_type": "code",
   "execution_count": 83,
   "metadata": {},
   "outputs": [
    {
     "name": "stdout",
     "output_type": "stream",
     "text": [
      "Array with type float: \n",
      " [0.         0.55555556 1.11111111 1.66666667 2.22222222 2.77777778\n",
      " 3.33333333 3.88888889 4.44444444 5.        ]\n",
      "Same array, but int: \n",
      " [0 0 1 1 2 2 3 3 4 5]\n"
     ]
    }
   ],
   "source": [
    "array_float = np.linspace(0,5,10)\n",
    "print(\"Array with type float: \\n\", array_float)\n",
    "\n",
    "print(\"Same array, but int: \\n\", array_float.astype(int))\n"
   ]
  },
  {
   "cell_type": "markdown",
   "metadata": {},
   "source": [
    "Create a 4*4 array including integers, which you will cut in half using vsplit"
   ]
  },
  {
   "cell_type": "code",
   "execution_count": 90,
   "metadata": {},
   "outputs": [
    {
     "name": "stdout",
     "output_type": "stream",
     "text": [
      "Original array: \n",
      " [[1 1 6 7]\n",
      " [6 4 9 2]\n",
      " [1 9 9 1]\n",
      " [6 1 7 8]]\n",
      "The array split vertically: \n",
      " [array([[1, 1, 6, 7],\n",
      "       [6, 4, 9, 2]]), array([[1, 9, 9, 1],\n",
      "       [6, 1, 7, 8]])]\n"
     ]
    }
   ],
   "source": [
    "array_rand = np.random.randint(1,10,16).reshape(4,4)\n",
    "print(\"Original array: \\n\", array_rand)\n",
    "print(\"The array split vertically: \\n\", np.vsplit(array_rand,2))"
   ]
  },
  {
   "cell_type": "markdown",
   "metadata": {},
   "source": [
    "Create a 4*4 array of integers, which you \"unfold\" into a 1D vector using the reshape command. You will then use the shuffle and permutation commands to mix these numbers"
   ]
  },
  {
   "cell_type": "code",
   "execution_count": 104,
   "metadata": {},
   "outputs": [
    {
     "name": "stdout",
     "output_type": "stream",
     "text": [
      "4x4 array with integers: \n",
      " [[ 0  1  2  3]\n",
      " [ 4  5  6  7]\n",
      " [ 8  9 10 11]\n",
      " [12 13 14 15]]\n",
      "1x16 vector with reshape: \n",
      " [[ 0  1  2  3  4  5  6  7  8  9 10 11 12 13 14 15]]\n",
      "1x16 vector with flatten: \n",
      " [ 0  1  2  3  4  5  6  7  8  9 10 11 12 13 14 15]\n",
      "Shuffled array: \n",
      " None\n",
      "Permutation of array: \n",
      " [[ 0  1  2  3  4  5  6  7  8  9 10 11 12 13 14 15]]\n"
     ]
    }
   ],
   "source": [
    "from numpy import random \n",
    "\n",
    "array4= np.arange(0,16).reshape((4,4))\n",
    "print(\"4x4 array with integers: \\n\", array4)\n",
    "array16 = array4.reshape((1,16))\n",
    "print(\"1x16 vector with reshape: \\n\", array16)\n",
    "print(\"1x16 vector with flatten: \\n\", array4.flatten())\n",
    "print(\"Shuffled array: \\n\", np.random.shuffle(array16))\n",
    "print(\"Permutation of array: \\n\", np.random.permutation(array16))\n"
   ]
  },
  {
   "cell_type": "markdown",
   "metadata": {},
   "source": [
    "Merge a 3*3 matrix made of integers, with a vector of three elements, once horizontally, and once vertically"
   ]
  },
  {
   "cell_type": "code",
   "execution_count": 121,
   "metadata": {},
   "outputs": [
    {
     "name": "stdout",
     "output_type": "stream",
     "text": [
      "matrix: \n",
      " [[0 1 2]\n",
      " [3 4 5]\n",
      " [6 7 8]]\n",
      "vector: \n",
      " [9 6 3]\n",
      "merge horizontally: \n",
      " [[0 1 2]\n",
      " [3 4 5]\n",
      " [6 7 8]\n",
      " [9 6 3]]\n",
      "merge vertically: \n",
      " [[0 1 2 9]\n",
      " [3 4 5 6]\n",
      " [6 7 8 3]]\n"
     ]
    }
   ],
   "source": [
    "matrix1 = np.arange(0,9).reshape((3,3))\n",
    "print(\"matrix: \\n\", matrix1)\n",
    "vector1 = np.array([9,6,3])\n",
    "print(\"vector: \\n\", vector1)\n",
    "print(\"merge horizontally: \\n\", np.concatenate((matrix1, vector1.reshape((1, -1))), axis=0))\n",
    "print(\"merge vertically: \\n\",np.concatenate((matrix1, vector1.reshape((-1, 1))), axis=1))"
   ]
  },
  {
   "cell_type": "markdown",
   "metadata": {},
   "source": [
    "Demonstrate your mastery and understanding of the resize command, then the argsort command. Make comments"
   ]
  },
  {
   "cell_type": "code",
   "execution_count": 152,
   "metadata": {},
   "outputs": [
    {
     "name": "stdout",
     "output_type": "stream",
     "text": [
      "original array: \n",
      " [[ 9  8 11]\n",
      " [10  9  5]\n",
      " [ 8 10  3]]\n",
      "1x3 resized array: \n",
      " [ 9  8 11]\n",
      "5x5 resized array: \n",
      " [[ 9  8 11 10]\n",
      " [ 9  5  8 10]\n",
      " [ 3  9  8 11]\n",
      " [10  9  5  8]\n",
      " [10  3  9  8]\n",
      " [11 10  9  5]]\n",
      "array of sorted indexes: \n",
      " [1 0 2]\n",
      "array of the sorted values: \n",
      " [ 8  9 11]\n"
     ]
    }
   ],
   "source": [
    "arr = np.random.randint(2,20,9).reshape((3,3)) #with reshape all the elements must fit\n",
    "print(\"original array: \\n\", arr) \n",
    "\n",
    "#with resize you can obtain whichever size you want, the elements will be repeated or left out to fit the size\n",
    "print(\"5x5 resized array: \\n\", np.resize(arr,(6,4))) \n",
    "\n",
    "smaller = np.resize(arr,(3)) # can also create a 1D array from arr\n",
    "print(\"1x3 resized array: \\n\", smaller) \n",
    "\n",
    "sorted_index= np.argsort(smaller) \n",
    "print(\"array of sorted indexes: \\n\", sorted_index)\n",
    "print(\"array of the sorted values: \\n\", smaller[sorted_index]) #the values in the array are now sorted based on the sorted_index that we found"
   ]
  },
  {
   "cell_type": "markdown",
   "metadata": {},
   "source": [
    "Write a NumPy program to get the n largest values ​​of an array, use np.partition and play with both positive and negative values ​​of n, the second argument of the function, before explaining in your words what is happening. pass"
   ]
  },
  {
   "cell_type": "code",
   "execution_count": 165,
   "metadata": {},
   "outputs": [
    {
     "name": "stdout",
     "output_type": "stream",
     "text": [
      "original array: \n",
      " [[8 4 1 6]\n",
      " [8 7 9 2]\n",
      " [4 4 2 1]\n",
      " [7 5 8 8]]\n",
      "3rd largest value, positive \n",
      " [[1 4 6 8]\n",
      " [2 7 8 9]\n",
      " [2 1 4 4]\n",
      " [5 7 8 8]]\n",
      "3rd largest value, negative \n",
      " [[1 4 8 6]\n",
      " [2 7 9 8]\n",
      " [1 2 4 4]\n",
      " [5 7 8 8]]\n"
     ]
    }
   ],
   "source": [
    "array5 = np.random.randint(1,10,16).reshape((4,4))\n",
    "print(\"original array: \\n\", array5)\n",
    "\n",
    "print(\"3rd largest value, positive \\n\", np.partition(array5, 3))\n",
    "print(\"3rd largest value, negative \\n\", np.partition(array5, -3))"
   ]
  },
  {
   "cell_type": "markdown",
   "metadata": {},
   "source": [
    "Sort a 2*2 array, on the one hand before having flattened it, and on the other hand after having flattened it"
   ]
  },
  {
   "cell_type": "code",
   "execution_count": 172,
   "metadata": {},
   "outputs": [
    {
     "name": "stdout",
     "output_type": "stream",
     "text": [
      "unsorted: \n",
      " [[6 5]\n",
      " [1 5]]\n",
      "sorted before flattening & sorted by column: \n",
      " [[5 6]\n",
      " [1 5]]\n",
      "sorted before flattening & sorted by row: \n",
      " [[1 5]\n",
      " [6 5]]\n",
      "sorted after flattening: \n",
      " [1 5 5 6]\n"
     ]
    }
   ],
   "source": [
    "flat = np.random.randint(1,10,4).reshape((2,2))\n",
    "print(\"unsorted: \\n\", flat)\n",
    "print(\"sorted before flattening & sorted by column: \\n\", np.sort(flat))\n",
    "print(\"sorted before flattening & sorted by row: \\n\",np.sort(flat, axis=0))\n",
    "print(\"sorted after flattening: \\n\",np.sort(flat, axis=None))"
   ]
  },
  {
   "cell_type": "markdown",
   "metadata": {},
   "source": [
    "Produce a 1D array of the size of your choice, containing a random number of 2 between 5 and 10. Count the number of times the value 2 is repeated in the array."
   ]
  },
  {
   "cell_type": "code",
   "execution_count": 180,
   "metadata": {},
   "outputs": [
    {
     "name": "stdout",
     "output_type": "stream",
     "text": [
      "2 is 3 times repeated in  [2 2 6 7 6 2 9]\n"
     ]
    }
   ],
   "source": [
    "random_array = np.array([2,2,6,7,6,2,9])\n",
    "print(\"2 is\", np.sum(random_array == 2), \"times repeated in \", random_array)"
   ]
  },
  {
   "cell_type": "markdown",
   "metadata": {},
   "source": [
    "Create an integer vector of size 30 with numbers between 1 and 12. Then use np.isin to check if the numbers 4, 6 and 7 appeared in the sequence"
   ]
  },
  {
   "cell_type": "code",
   "execution_count": 186,
   "metadata": {},
   "outputs": [
    {
     "name": "stdout",
     "output_type": "stream",
     "text": [
      "original array: \n",
      " [ 9  2  4  3  5  7  1  8  6  6  4  6  1  1 10  5  5  5  3  6  1  6  5 11\n",
      "  6 11  3  1  2 11]\n",
      "check if 4,6,7 appear in the sequence: \n",
      "  [False False  True False False  True False False  True  True  True  True\n",
      " False False False False False False False  True False  True False False\n",
      "  True False False False False False]\n"
     ]
    }
   ],
   "source": [
    "arr467 = np.random.randint(1,12,30)\n",
    "print(\"original array: \\n\", arr467)\n",
    "print(\"check if 4,6,7 appear in the sequence: \\n \", np.isin(arr467, [4,6,7]))"
   ]
  },
  {
   "cell_type": "markdown",
   "metadata": {},
   "source": [
    "**np.where**"
   ]
  },
  {
   "cell_type": "markdown",
   "metadata": {},
   "source": [
    "Create an integer vector of size 30 with numbers between 1 and 12, then use the np.where function to identify indexes of numbers greater than 6"
   ]
  },
  {
   "cell_type": "code",
   "execution_count": 199,
   "metadata": {},
   "outputs": [
    {
     "name": "stdout",
     "output_type": "stream",
     "text": [
      "original array: \n",
      " [ 3  4  4  3  8  5 10  5 11  6  6  6 11 10  5  5  9 10  3  4 11  4  4  3\n",
      "  1  2 10  1  1  3]\n",
      "indexes of numbers greater than 6: \n",
      " (array([ 4,  6,  8, 12, 13, 16, 17, 20, 26], dtype=int64),)\n"
     ]
    }
   ],
   "source": [
    "array_where = np.random.randint(1,12,30)\n",
    "print(\"original array: \\n\", array_where)\n",
    "print(\"indexes of numbers greater than 6: \\n\", np.where(array_where>6))\n"
   ]
  },
  {
   "cell_type": "markdown",
   "metadata": {},
   "source": [
    "**Données manquantes**"
   ]
  },
  {
   "cell_type": "markdown",
   "metadata": {},
   "source": [
    "Create an array of 3 * 3 and introduce a missing value at index [0,0], via np.nan"
   ]
  },
  {
   "cell_type": "code",
   "execution_count": 204,
   "metadata": {},
   "outputs": [
    {
     "name": "stdout",
     "output_type": "stream",
     "text": [
      "array with missing value: \n",
      " [[nan  0.  0.]\n",
      " [ 0.  0.  0.]\n",
      " [ 0.  0.  0.]]\n"
     ]
    }
   ],
   "source": [
    "arr_miss = np.zeros((3,3))\n",
    "arr_miss[0][0]= np.nan\n",
    "print(\"array with missing value: \\n\", arr_miss)"
   ]
  },
  {
   "cell_type": "markdown",
   "metadata": {},
   "source": [
    "Transform this missing value into zero using np.fillna"
   ]
  },
  {
   "cell_type": "code",
   "execution_count": 212,
   "metadata": {},
   "outputs": [
    {
     "name": "stdout",
     "output_type": "stream",
     "text": [
      "index for which the value is nan: \n",
      " [[ True False False]\n",
      " [False False False]\n",
      " [False False False]]\n",
      "array nan changed to 0: \n",
      " [[0. 0. 0.]\n",
      " [0. 0. 0.]\n",
      " [0. 0. 0.]]\n"
     ]
    }
   ],
   "source": [
    "#for np.fillna, I get the error; numpy has not attribute 'fillna'\n",
    "index_nan = np.isnan(arr_miss)\n",
    "print(\"index for which the value is nan: \\n\", index_nan)\n",
    "print(\"array nan changed to 0: \\n\", np.where(index_nan, 0, arr_miss))"
   ]
  },
  {
   "cell_type": "markdown",
   "metadata": {},
   "source": [
    "You have two sets of integers: A = {1, 2, 3, 4, 5} and B = {3, 4, 5, 6, 7}. Write a program in Python using the appropriate function to find the union of these two sets and return the result."
   ]
  },
  {
   "cell_type": "code",
   "execution_count": 232,
   "metadata": {},
   "outputs": [
    {
     "name": "stdout",
     "output_type": "stream",
     "text": [
      "union of two sets: \n",
      " [1 2 3 4 5 6 7]\n"
     ]
    }
   ],
   "source": [
    "A={1,2,3,4,5}\n",
    "B={3,4,5,6,7}\n",
    "\n",
    "#this function does not give the desired output for a set\n",
    "print(\"union of two sets: \\n\", np.union1d(list(A), list(B))) "
   ]
  },
  {
   "cell_type": "markdown",
   "metadata": {},
   "source": [
    "You have two sets of integers: A = {1, 2, 3, 4, 5} and B = {3, 4, 5, 6, 7}. Write a program in Python using the appropriate function to find the intersection of these two sets and return the result"
   ]
  },
  {
   "cell_type": "code",
   "execution_count": 233,
   "metadata": {},
   "outputs": [
    {
     "name": "stdout",
     "output_type": "stream",
     "text": [
      "intersect two sets without list command: \n",
      " []\n",
      "intersect two sets with list command: \n",
      " [3 4 5]\n"
     ]
    }
   ],
   "source": [
    "print(\"intersect two sets without list command: \\n\", np.intersect1d(A,B))\n",
    "print(\"intersect two sets with list command: \\n\", np.intersect1d(list(A),list(B)))"
   ]
  },
  {
   "cell_type": "markdown",
   "metadata": {},
   "source": [
    "You have a set of integer values ​​= {2, 4, 6}, and a NumPy array = [1, 2, 3, 4, 5]. Write a program in Python using np.in1d ​​to check if each element in array belongs to the set values. The program must return an array of booleans indicating the membership of each element"
   ]
  },
  {
   "cell_type": "code",
   "execution_count": 234,
   "metadata": {},
   "outputs": [
    {
     "name": "stdout",
     "output_type": "stream",
     "text": [
      "[False  True False  True False]\n"
     ]
    }
   ],
   "source": [
    "set_of_int_values = list({2,4,6})\n",
    "numpy_array = np.array([1,2,3,4,5])\n",
    "\n",
    "print(np.in1d(numpy_array, set_of_int_values))"
   ]
  },
  {
   "cell_type": "markdown",
   "metadata": {},
   "source": [
    "You have two sets of integers: A = {1, 2, 3, 4, 5} and B = {3, 4, 5, 6, 7}. Write a program in Python using np.setdiff1d to find elements that are in A but not in B, then return the result."
   ]
  },
  {
   "cell_type": "code",
   "execution_count": 235,
   "metadata": {},
   "outputs": [
    {
     "name": "stdout",
     "output_type": "stream",
     "text": [
      "elements that are in A and not in B: \n",
      " [1 2]\n"
     ]
    }
   ],
   "source": [
    "print(\"elements that are in A and not in B: \\n\", np.setdiff1d(list(A),list(B)))"
   ]
  },
  {
   "cell_type": "markdown",
   "metadata": {},
   "source": [
    "Write a function that takes a NumPy array as input and returns a new array containing the differences between consecutive elements of the input array. For example, if the input is [1, 3, 7, 11], the result should be [2, 4, 4]."
   ]
  },
  {
   "cell_type": "code",
   "execution_count": 238,
   "metadata": {},
   "outputs": [
    {
     "name": "stdout",
     "output_type": "stream",
     "text": [
      "original array: \n",
      " [1, 3, 7, 11]\n",
      "difference between consecutive elements: \n",
      " [2 4 4]\n"
     ]
    }
   ],
   "source": [
    "orig_arr = [1,3,7,11]\n",
    "print(\"original array: \\n\", orig_arr)\n",
    "print(\"difference between consecutive elements: \\n\", np.diff(orig_arr))"
   ]
  },
  {
   "cell_type": "markdown",
   "metadata": {},
   "source": [
    "**Calculus with NumPy**"
   ]
  },
  {
   "cell_type": "markdown",
   "metadata": {},
   "source": [
    "Create a matrix of 4*4 real numbers, both negative and positive, then calculate for each row the sum, average, and cumulative sum"
   ]
  },
  {
   "cell_type": "code",
   "execution_count": 253,
   "metadata": {},
   "outputs": [
    {
     "name": "stdout",
     "output_type": "stream",
     "text": [
      "original array: \n",
      " [[ 17.57137032 -14.07018236 -18.84718084  -1.52570855]\n",
      " [ 11.76958926  -7.38997303  -7.49924883 -15.31914211]\n",
      " [  5.86803852  -9.62322041   9.92609886  12.60147813]\n",
      " [ 19.12674187  -9.86567201  11.40657408  17.86570159]]\n",
      "sum for each row: \n",
      " [-16.87170142 -18.43877471  18.77239509  38.53334552]\n",
      "average for each row: \n",
      " [-4.21792536 -4.60969368  4.69309877  9.63333638]\n",
      "cumulative sum for each row: \n",
      " [[ 17.57137032   3.50118796 -15.34599287 -16.87170142]\n",
      " [ 11.76958926   4.37961623  -3.1196326  -18.43877471]\n",
      " [  5.86803852  -3.75518189   6.17091696  18.77239509]\n",
      " [ 19.12674187   9.26106986  20.66764394  38.53334552]]\n"
     ]
    }
   ],
   "source": [
    "array_calc = np.random.uniform(-20,20,16).reshape((4,4)) #used uniform here, so that I can round the values later\n",
    "print(\"original array: \\n\", array_calc)\n",
    "\n",
    "print(\"sum for each row: \\n\", array_calc.sum(axis=1))\n",
    "print(\"average for each row: \\n\", array_calc.mean(axis=1))\n",
    "print(\"cumulative sum for each row: \\n\", array_calc.cumsum(axis=1))"
   ]
  },
  {
   "cell_type": "markdown",
   "metadata": {},
   "source": [
    "Repeat the previous operation by averaging the absolute values ​​of the numbers, then the minimum value and the maximum value; you will finally create a last column using the maximum value with the np.round function"
   ]
  },
  {
   "cell_type": "code",
   "execution_count": 254,
   "metadata": {},
   "outputs": [
    {
     "name": "stdout",
     "output_type": "stream",
     "text": [
      "original array: \n",
      " [[ 17.57137032 -14.07018236 -18.84718084  -1.52570855]\n",
      " [ 11.76958926  -7.38997303  -7.49924883 -15.31914211]\n",
      " [  5.86803852  -9.62322041   9.92609886  12.60147813]\n",
      " [ 19.12674187  -9.86567201  11.40657408  17.86570159]]\n",
      "abs values of the array: \n",
      " [[17.57137032 14.07018236 18.84718084  1.52570855]\n",
      " [11.76958926  7.38997303  7.49924883 15.31914211]\n",
      " [ 5.86803852  9.62322041  9.92609886 12.60147813]\n",
      " [19.12674187  9.86567201 11.40657408 17.86570159]]\n",
      "min values of the rows of abs array: \n",
      " [1.52570855 7.38997303 5.86803852 9.86567201]\n",
      "max values of the rows of the abs array: \n",
      " [18.84718084 15.31914211 12.60147813 19.12674187]\n",
      "rounded: \n",
      " [19. 15. 13. 19.]\n"
     ]
    }
   ],
   "source": [
    "print(\"original array: \\n\", array_calc)\n",
    "\n",
    "abs_arr = np.abs(array_calc)\n",
    "print(\"abs values of the array: \\n\", abs_arr)\n",
    "\n",
    "print(\"min values of the rows of abs array: \\n\", abs_arr.min(axis= 1))\n",
    "\n",
    "max_values = abs_arr.max(axis=1)\n",
    "print(\"max values of the rows of the abs array: \\n\", max_values)\n",
    "print(\"rounded: \\n\", np.round(max_values))"
   ]
  },
  {
   "cell_type": "markdown",
   "metadata": {},
   "source": [
    "Place 10 points randomly on a plane, then calculate the distance vectors between these different points. How many distance calculations do you do? Visualize points with matplotlib"
   ]
  },
  {
   "cell_type": "code",
   "execution_count": 265,
   "metadata": {},
   "outputs": [
    {
     "name": "stdout",
     "output_type": "stream",
     "text": [
      "values of the points: \n",
      " [[-13 -14]\n",
      " [  4   7]\n",
      " [ -8 -18]\n",
      " [-12  14]\n",
      " [ 15  19]\n",
      " [ -6 -19]\n",
      " [  5 -11]\n",
      " [-18 -13]\n",
      " [ -2  12]\n",
      " [ 10 -12]]\n",
      "distance between the points: \n",
      " [19.10497317  8.06225775 19.6977156  18.43908891 24.20743687 19.92485885\n",
      " 12.08304597 22.20360331 12.16552506 15.62049935]\n"
     ]
    },
    {
     "data": {
      "image/png": "[encoded data removed]",
      "text/plain": [
       "<Figure size 640x480 with 1 Axes>"
      ]
     },
     "metadata": {},
     "output_type": "display_data"
    }
   ],
   "source": [
    "import matplotlib.pyplot as plt\n",
    "\n",
    "random_points = np.random.randint(-20,20,20).reshape((10,2))\n",
    "print(\"values of the points: \\n\", random_points)\n",
    "\n",
    "distance = np.linalg.norm(random_points,axis=1)\n",
    "print(\"distance between the points: \\n\",distance)\n",
    "\n",
    "plt.scatter(random_points[:,0], random_points[:,1])\n",
    "plt.show()"
   ]
  },
  {
   "cell_type": "markdown",
   "metadata": {},
   "source": [
    "Now visualize these distances on the plan, still with matplotlib"
   ]
  },
  {
   "cell_type": "code",
   "execution_count": 266,
   "metadata": {},
   "outputs": [
    {
     "data": {
      "image/png": "[encoded data removed]",
      "text/plain": [
       "<Figure size 640x480 with 1 Axes>"
      ]
     },
     "metadata": {},
     "output_type": "display_data"
    }
   ],
   "source": [
    "plt.plot(random_points[:,0], random_points[:,1])\n",
    "plt.show()"
   ]
  },
  {
   "cell_type": "markdown",
   "metadata": {},
   "source": [
    "Create a list of randomly generated integers, and use np.mod (for modulo) to identify indexes of even numbers"
   ]
  },
  {
   "cell_type": "code",
   "execution_count": 274,
   "metadata": {},
   "outputs": [
    {
     "name": "stdout",
     "output_type": "stream",
     "text": [
      "original array: \n",
      " [ 7  8  8 13  9  5  8  4  9 11]\n",
      "indexes of even numbers: \n",
      " (array([1, 2, 6, 7], dtype=int64),)\n"
     ]
    }
   ],
   "source": [
    "random_list = np.random.randint(1,15,10)\n",
    "print(\"original array: \\n\", random_list)\n",
    "\n",
    "indexes_even = np.where(np.mod(random_list,2)==0)\n",
    "print(\"indexes of even numbers: \\n\", indexes_even)"
   ]
  },
  {
   "cell_type": "markdown",
   "metadata": {},
   "source": [
    "**Fonctions universelles**"
   ]
  },
  {
   "cell_type": "markdown",
   "metadata": {},
   "source": [
    "Take the vector {3,4,6,9} and use the add and multiply functions"
   ]
  },
  {
   "cell_type": "code",
   "execution_count": 275,
   "metadata": {},
   "outputs": [
    {
     "name": "stdout",
     "output_type": "stream",
     "text": [
      "[3 4 6 9] + 9 = [12 13 15 18]\n",
      "[3 4 6 9] * 9 = [27 36 54 81]\n",
      "[3 4 6 9] + [1 2 3 8] = [ 4  6  9 17]\n",
      "[3 4 6 9] * [1 2 3 8] = [ 3  8 18 72]\n"
     ]
    }
   ],
   "source": [
    "array6 = np.array([3,4,6,9])\n",
    "array_add = array6 +9\n",
    "array_mult = array6 *9\n",
    "\n",
    "print(array6,\"+ 9 =\", array_add)\n",
    "print(array6,\"* 9 =\", array_mult)\n",
    "\n",
    "array9 = np.array([1,2,3,8])\n",
    "array69= array6+ array9\n",
    "array96 = array6 * array9\n",
    "\n",
    "print(array6,\"+\", array9, \"=\", array69)\n",
    "print(array6,\"*\", array9, \"=\", array96)\n",
    "\n"
   ]
  },
  {
   "cell_type": "markdown",
   "metadata": {},
   "source": [
    "Use multiply.outer on two vectors, and explain the nature of the corresponding operations"
   ]
  },
  {
   "cell_type": "code",
   "execution_count": 279,
   "metadata": {},
   "outputs": [
    {
     "name": "stdout",
     "output_type": "stream",
     "text": [
      "original arrays: \n",
      " [ 4  6  9 17] \n",
      " [ 3  8 18 72]\n",
      "outer mult: \n",
      " [[  12   32   72  288]\n",
      " [  18   48  108  432]\n",
      " [  27   72  162  648]\n",
      " [  51  136  306 1224]]\n"
     ]
    }
   ],
   "source": [
    "array_outer = np.multiply.outer(array69, array96)\n",
    "\n",
    "print(\"original arrays: \\n\", array69, \"\\n\", array96)\n",
    "print(\"outer mult: \\n\", array_outer)\n",
    "\n",
    "# this operation does the matrix multiplication of of the first array times the transpose of the second array:\n",
    "# in this case: \n",
    "# 4*3 4*8 4*18 4*72\n",
    "# 6*3 6*8 6*18 6*72 \n",
    "# 9*3 9*8 9*18 9*72\n",
    "# 17*3 17*8 17*18 17*72"
   ]
  },
  {
   "cell_type": "markdown",
   "metadata": {},
   "source": [
    "Apply the negative function to the array [2,3,5]"
   ]
  },
  {
   "cell_type": "code",
   "execution_count": 280,
   "metadata": {},
   "outputs": [
    {
     "name": "stdout",
     "output_type": "stream",
     "text": [
      "negative values of the array: \n",
      " [-2 -3 -5]\n"
     ]
    }
   ],
   "source": [
    "array_neg = np.array([2,3,5])\n",
    "print(\"negative values of the array: \\n\", np.negative(array_neg))"
   ]
  },
  {
   "cell_type": "markdown",
   "metadata": {},
   "source": [
    "**Numpy and strings**"
   ]
  },
  {
   "cell_type": "markdown",
   "metadata": {},
   "source": [
    "Merge two arrays each comprising two strings, using the np.char.add function"
   ]
  },
  {
   "cell_type": "code",
   "execution_count": 286,
   "metadata": {},
   "outputs": [
    {
     "data": {
      "text/plain": [
       "array(['hello to ', 'this world !'], dtype='<U13')"
      ]
     },
     "execution_count": 286,
     "metadata": {},
     "output_type": "execute_result"
    }
   ],
   "source": [
    "string1 = np.array([\"hello \", \"this \"])\n",
    "string2 = np.array([\"to \", \"world !\"])\n",
    "\n",
    "np.char.add(string1,string2)"
   ]
  },
  {
   "cell_type": "markdown",
   "metadata": {},
   "source": [
    "Use the np.char.join function to insert the symbol \";\" into a 5-character string. between each letter"
   ]
  },
  {
   "cell_type": "code",
   "execution_count": 289,
   "metadata": {},
   "outputs": [
    {
     "name": "stdout",
     "output_type": "stream",
     "text": [
      "J;e;l;l;o\n"
     ]
    }
   ],
   "source": [
    "string3 = \"Jello\"\n",
    "\n",
    "print(np.char.join(\";\", string3))"
   ]
  },
  {
   "cell_type": "markdown",
   "metadata": {},
   "source": [
    "Use the np.char.upper function on the character string of your choice"
   ]
  },
  {
   "cell_type": "code",
   "execution_count": 290,
   "metadata": {},
   "outputs": [
    {
     "name": "stdout",
     "output_type": "stream",
     "text": [
      "JELLO\n"
     ]
    }
   ],
   "source": [
    "print(np.char.upper(string3))"
   ]
  },
  {
   "cell_type": "markdown",
   "metadata": {},
   "source": [
    "Use np.char.replace to demonstrate how to replace one string (in a sentence) with another"
   ]
  },
  {
   "cell_type": "code",
   "execution_count": 297,
   "metadata": {},
   "outputs": [
    {
     "name": "stdout",
     "output_type": "stream",
     "text": [
      "Jello Jello World\n",
      "Jello Jello Yudita\n"
     ]
    }
   ],
   "source": [
    "replaced_string = ((string3 + ' ')*2) +'World'\n",
    "print(replaced_string)\n",
    "\n",
    "new_string = np.char.replace(replaced_string, 'World', 'Yudita')\n",
    "print(new_string)"
   ]
  },
  {
   "cell_type": "markdown",
   "metadata": {},
   "source": [
    "Use np.char.split to split an array containing two sentences into as many elements as there are words in them"
   ]
  },
  {
   "cell_type": "code",
   "execution_count": 299,
   "metadata": {},
   "outputs": [
    {
     "name": "stdout",
     "output_type": "stream",
     "text": [
      "[list(['here', 'is', 'the', 'first', 'sentence'])\n",
      " list(['and', 'there', 'was', 'also', 'the', 'second', 'sentence'])]\n"
     ]
    }
   ],
   "source": [
    "sentences = np.array([\"here is the first sentence\", \"and there was also the second sentence\"])\n",
    "print(np.char.split(sentences))"
   ]
  },
  {
   "cell_type": "markdown",
   "metadata": {},
   "source": [
    "Create an array containing three strings including a repeated pattern, common to the three elements. Use np.char.count to count the number of times this pattern is repeated"
   ]
  },
  {
   "cell_type": "code",
   "execution_count": 303,
   "metadata": {},
   "outputs": [
    {
     "name": "stdout",
     "output_type": "stream",
     "text": [
      "[1 1 1]\n",
      "[3 2 3]\n"
     ]
    }
   ],
   "source": [
    "nice_string = np.array([\"first nice string\",\"second nice string\", \"third nice string\"])\n",
    "print(np.char.count(nice_string,\"nice string\"))\n",
    "print(np.char.count(nice_string,\"i\"))"
   ]
  },
  {
   "cell_type": "markdown",
   "metadata": {},
   "source": [
    "Modify an array of length 5 by inserting elements, then removing some"
   ]
  },
  {
   "cell_type": "code",
   "execution_count": 309,
   "metadata": {},
   "outputs": [
    {
     "name": "stdout",
     "output_type": "stream",
     "text": [
      "original array: \n",
      " [[0. 0. 0. 0. 0.]]\n",
      "deleted element: \n",
      " [[0. 0. 0. 0.]]\n",
      "inserted element: \n",
      " [[0. 3. 0. 0. 0.]]\n"
     ]
    }
   ],
   "source": [
    "array_5 = np.zeros((1,5))\n",
    "\n",
    "print(\"original array: \\n\", array_5)\n",
    "\n",
    "print(\"deleted element: \\n\", np.delete(array_5,1,1))\n",
    "\n",
    "print(\"inserted element: \\n\", np.insert(deleted_el,1,3,1))"
   ]
  },
  {
   "cell_type": "markdown",
   "metadata": {},
   "source": [
    "Write a NumPy program to add a border (padded with 0s) around an existing array. You need two layers of zeros all around"
   ]
  },
  {
   "cell_type": "code",
   "execution_count": 312,
   "metadata": {},
   "outputs": [
    {
     "name": "stdout",
     "output_type": "stream",
     "text": [
      "original array: \n",
      " [[3 7 4 8]\n",
      " [5 3 6 5]\n",
      " [6 7 4 4]\n",
      " [5 2 1 1]]\n",
      "padded: \n",
      " [[0 0 0 0 0 0 0 0]\n",
      " [0 0 0 0 0 0 0 0]\n",
      " [0 0 3 7 4 8 0 0]\n",
      " [0 0 5 3 6 5 0 0]\n",
      " [0 0 6 7 4 4 0 0]\n",
      " [0 0 5 2 1 1 0 0]\n",
      " [0 0 0 0 0 0 0 0]\n",
      " [0 0 0 0 0 0 0 0]]\n"
     ]
    }
   ],
   "source": [
    "array_exist=np.random.randint(1,10,16).reshape((4,4))\n",
    "print(\"original array: \\n\", array_exist)\n",
    "\n",
    "print(\"padded: \\n\", np.pad(array_exist,2,constant_values=0))"
   ]
  },
  {
   "cell_type": "markdown",
   "metadata": {},
   "source": [
    "Write a NumPy program to create a 5x5 array with random values ​​and normalize it by row"
   ]
  },
  {
   "cell_type": "code",
   "execution_count": 315,
   "metadata": {},
   "outputs": [
    {
     "name": "stdout",
     "output_type": "stream",
     "text": [
      "normalized: \n",
      " 3.047542901241902\n"
     ]
    }
   ],
   "source": [
    "array_norm = np.random.random((5,5))\n",
    "print(\"normalized: \\n\", np.linalg.norm(array_norm))"
   ]
  },
  {
   "cell_type": "markdown",
   "metadata": {},
   "source": [
    "**Pour aller plus loin que la simple maîtrise des fonctions Numpy** (ChatGPT interdit)"
   ]
  },
  {
   "cell_type": "markdown",
   "metadata": {},
   "source": [
    "Nous vous proposons quelques exercices de programmation, pour aller au-delà de la simple connaissance de fonctions"
   ]
  },
  {
   "cell_type": "markdown",
   "metadata": {},
   "source": [
    "*Exercice 1*"
   ]
  },
  {
   "cell_type": "markdown",
   "metadata": {},
   "source": [
    "Si le produit de deux nombres entiers est égal ou inférieur à 1 000, renvoyez le produit ; sinon, renvoyez leur somme. Nous attendons de vous que vous construisiez une fonction. numéro1 = 20,\n",
    "nombre2 = 30, la sortie est 600"
   ]
  },
  {
   "cell_type": "code",
   "execution_count": 317,
   "metadata": {},
   "outputs": [
    {
     "name": "stdout",
     "output_type": "stream",
     "text": [
      "20 + or * 30 = 600\n"
     ]
    }
   ],
   "source": [
    "def product_int(num1, num2): \n",
    "    if num1*num2 <=1000 : \n",
    "        return num1 * num2\n",
    "    else : \n",
    "        return num1 + num2\n",
    "    \n",
    "nombre1, nombre2 = 20, 30\n",
    "print(nombre1, \"+ or *\", nombre2, \"=\", product_int(nombre1, nombre2))\n",
    "\n"
   ]
  },
  {
   "cell_type": "markdown",
   "metadata": {},
   "source": [
    "*Exercice 2*"
   ]
  },
  {
   "cell_type": "markdown",
   "metadata": {},
   "source": [
    "Créez un programme qui invite l'utilisateur à saisir une chaîne, puis affiche\n",
    "les caractères situés à des positions d'index paires. Par exemple, si la chaîne est\n",
    "\"exemple\", le programme doit afficher les caractères \"x\", \"m\", \"l\"."
   ]
  },
  {
   "cell_type": "code",
   "execution_count": 334,
   "metadata": {},
   "outputs": [
    {
     "name": "stdout",
     "output_type": "stream",
     "text": [
      "y\n",
      "d\n",
      "t\n",
      "a\n"
     ]
    }
   ],
   "source": [
    "# geb_input = input(\"Enter a string \")\n",
    "geb_input = \"yuditaaa\"\n",
    "\n",
    "for i in range(0, len(geb_input), 2):\n",
    "    print(geb_input[i])"
   ]
  },
  {
   "cell_type": "markdown",
   "metadata": {},
   "source": [
    "*Exercice 3*"
   ]
  },
  {
   "cell_type": "markdown",
   "metadata": {},
   "source": [
    "Créez un programme qui prend une chaîne en entrée et supprime les caractères de\n",
    "le début de la chaîne jusqu'à un index spécifié, ce qui donne une nouvelle chaîne.\n",
    "Par exemple, si nous appelons la fonction remove chars(”example”, 3), la sortie\n",
    "devrait être « mple ». Notez que l'index spécifié, noté 'n', doit être inférieur à la longueur de\n",
    "la chaîne."
   ]
  },
  {
   "cell_type": "code",
   "execution_count": 347,
   "metadata": {},
   "outputs": [
    {
     "name": "stdout",
     "output_type": "stream",
     "text": [
      " world xx kiki\n"
     ]
    }
   ],
   "source": [
    "def delete_at_index (string8,n) :\n",
    "    return string8[n:]\n",
    "\n",
    "#string_input = input(\"enter a string \")\n",
    "#index_input = input(\"enter the index \")\n",
    "\n",
    "string_input = \"jello world xx kiki\"\n",
    "index_input = 5\n",
    "\n",
    "print(delete_at_index(string_input, index_input))\n",
    "\n"
   ]
  },
  {
   "cell_type": "markdown",
   "metadata": {},
   "source": [
    "*Exercice 4*"
   ]
  },
  {
   "cell_type": "markdown",
   "metadata": {},
   "source": [
    "Itérer la liste de nombres donnée et imprimer uniquement les nombres divisibles\n",
    "par 5:  la liste donnée est [10, 20, 33, 46, 55] Divisible par 5 : 10, 20, 55"
   ]
  },
  {
   "cell_type": "code",
   "execution_count": 348,
   "metadata": {},
   "outputs": [
    {
     "name": "stdout",
     "output_type": "stream",
     "text": [
      "10\n",
      "20\n",
      "55\n"
     ]
    }
   ],
   "source": [
    "array_don = np.array([10,20,33,46,55])\n",
    "\n",
    "for i in range (0,len(array_don)):\n",
    "    if array_don[i]% 5==0 :\n",
    "        print(array_don[i])\n"
   ]
  },
  {
   "cell_type": "markdown",
   "metadata": {},
   "source": [
    "*Exercice 5*"
   ]
  },
  {
   "cell_type": "markdown",
   "metadata": {},
   "source": [
    "Développer un programme qui détermine le nombre d'occurrences de la sous-chaîne\n",
    "\"Emma\" dans une chaîne donnée.\n",
    "• Donné : « Emma est une bonne développeuse. Emma est institutrice. »\n",
    "• Résultat attendu : Emma est apparue 2 fois\n",
    "Faites-le une fois avec la méthode « count » de chaîne, une fois sans."
   ]
  },
  {
   "cell_type": "code",
   "execution_count": 351,
   "metadata": {},
   "outputs": [
    {
     "name": "stdout",
     "output_type": "stream",
     "text": [
      "# times clean appears with count: \n",
      " 4\n",
      "clean is 0 times repeated in  clean, clean and more cleaning clean\n"
     ]
    }
   ],
   "source": [
    "string11 = \"clean, clean and more cleaning clean\"\n",
    "print(\"# times clean appears with count: \\n\", string11.count(\"clean\"))\n",
    "\n",
    "print(\"clean is\", np.sum(string11 == \"clean\"), \"times repeated in: \", string11)"
   ]
  },
  {
   "cell_type": "markdown",
   "metadata": {},
   "source": [
    "*Exercice 6*"
   ]
  },
  {
   "cell_type": "markdown",
   "metadata": {},
   "source": [
    "Écrivez un programme pour vérifier si le nombre donné est un nombre palindrome.\n",
    "Un nombre palindrome est un nombre qui est le même après l'inverse. Par exemple\n",
    "545, ce sont les nombres palindromes\n",
    "Production attendue:\n",
    "• numéro original 121 : Oui. le nombre donné est le numéro du palindrome\n",
    "• numéro d'origine 125 : le numéro donné n'est pas un numéro palindrome"
   ]
  },
  {
   "cell_type": "code",
   "execution_count": 366,
   "metadata": {},
   "outputs": [
    {
     "ename": "TypeError",
     "evalue": "len() of unsized object",
     "output_type": "error",
     "traceback": [
      "\u001b[1;31m---------------------------------------------------------------------------\u001b[0m",
      "\u001b[1;31mTypeError\u001b[0m                                 Traceback (most recent call last)",
      "\u001b[1;32mh:\\Downloads\\Notebook Numpy PIB2.ipynb Cell 133\u001b[0m line \u001b[0;36m8\n\u001b[0;32m      <a href='vscode-notebook-cell:/h%3A/Downloads/Notebook%20Numpy%20PIB2.ipynb#Y245sZmlsZQ%3D%3D?line=4'>5</a>\u001b[0m             \u001b[39mreturn\u001b[39;00m \u001b[39mFalse\u001b[39;00m\n\u001b[0;32m      <a href='vscode-notebook-cell:/h%3A/Downloads/Notebook%20Numpy%20PIB2.ipynb#Y245sZmlsZQ%3D%3D?line=5'>6</a>\u001b[0m     \u001b[39mreturn\u001b[39;00m \u001b[39mTrue\u001b[39;00m\n\u001b[1;32m----> <a href='vscode-notebook-cell:/h%3A/Downloads/Notebook%20Numpy%20PIB2.ipynb#Y245sZmlsZQ%3D%3D?line=7'>8</a>\u001b[0m result \u001b[39m=\u001b[39m pali_check(\u001b[39m152\u001b[39;49m)\n\u001b[0;32m      <a href='vscode-notebook-cell:/h%3A/Downloads/Notebook%20Numpy%20PIB2.ipynb#Y245sZmlsZQ%3D%3D?line=8'>9</a>\u001b[0m \u001b[39mprint\u001b[39m(result)\n",
      "\u001b[1;32mh:\\Downloads\\Notebook Numpy PIB2.ipynb Cell 133\u001b[0m line \u001b[0;36m3\n\u001b[0;32m      <a href='vscode-notebook-cell:/h%3A/Downloads/Notebook%20Numpy%20PIB2.ipynb#Y245sZmlsZQ%3D%3D?line=0'>1</a>\u001b[0m \u001b[39mdef\u001b[39;00m \u001b[39mpali_check\u001b[39m(pali):\n\u001b[0;32m      <a href='vscode-notebook-cell:/h%3A/Downloads/Notebook%20Numpy%20PIB2.ipynb#Y245sZmlsZQ%3D%3D?line=1'>2</a>\u001b[0m     pali_str \u001b[39m=\u001b[39m np\u001b[39m.\u001b[39marray(pali)\n\u001b[1;32m----> <a href='vscode-notebook-cell:/h%3A/Downloads/Notebook%20Numpy%20PIB2.ipynb#Y245sZmlsZQ%3D%3D?line=2'>3</a>\u001b[0m     \u001b[39mfor\u001b[39;00m i \u001b[39min\u001b[39;00m \u001b[39mrange\u001b[39m(\u001b[39mlen\u001b[39;49m(pali_str)\u001b[39m/\u001b[39m\u001b[39m/\u001b[39m\u001b[39m2\u001b[39m):\n\u001b[0;32m      <a href='vscode-notebook-cell:/h%3A/Downloads/Notebook%20Numpy%20PIB2.ipynb#Y245sZmlsZQ%3D%3D?line=3'>4</a>\u001b[0m         \u001b[39mif\u001b[39;00m pali_str[i] \u001b[39m!=\u001b[39m pali_str[\u001b[39m-\u001b[39m(i\u001b[39m+\u001b[39m\u001b[39m1\u001b[39m)]:\n\u001b[0;32m      <a href='vscode-notebook-cell:/h%3A/Downloads/Notebook%20Numpy%20PIB2.ipynb#Y245sZmlsZQ%3D%3D?line=4'>5</a>\u001b[0m             \u001b[39mreturn\u001b[39;00m \u001b[39mFalse\u001b[39;00m\n",
      "\u001b[1;31mTypeError\u001b[0m: len() of unsized object"
     ]
    }
   ],
   "source": [
    "def pali_check(pali):\n",
    "    pali_str = np.array(pali)\n",
    "    for i in range(len(pali_str)//2):\n",
    "        if pali_str[i] != pali_str[-(i+1)]:\n",
    "            return False\n",
    "    return True\n",
    "\n",
    "result = pali_check(152)\n",
    "print(result)\n"
   ]
  },
  {
   "cell_type": "markdown",
   "metadata": {},
   "source": [
    "*Exercice 7*"
   ]
  },
  {
   "cell_type": "markdown",
   "metadata": {},
   "source": [
    "Écrivez une boucle while pour afficher chaque caractère d'une chaîne et, si un caractère est\n",
    "numéro : arrêter la boucle."
   ]
  },
  {
   "cell_type": "code",
   "execution_count": 372,
   "metadata": {},
   "outputs": [
    {
     "name": "stdout",
     "output_type": "stream",
     "text": [
      "l\n",
      "l\n",
      "b\n",
      "e\n",
      "t\n",
      "e\n",
      "x\n",
      "t\n",
      "a\n",
      "n\n",
      "d\n",
      "n\n",
      "o\n",
      "w\n",
      "found a number; stop the loop\n"
     ]
    }
   ],
   "source": [
    "string23 = \"herewillbetextandnow45nolongr\"\n",
    "index = 0\n",
    "\n",
    "while i < len(string23):\n",
    "\n",
    "    if string23[i].isdigit():\n",
    "        print(\"found a number; stop the loop\")\n",
    "        break\n",
    "\n",
    "    else : \n",
    "        print(string23[i])\n",
    "        i=i+1"
   ]
  }
 ],
 "metadata": {
  "kernelspec": {
   "display_name": "Python 3",
   "language": "python",
   "name": "python3"
  },
  "language_info": {
   "codemirror_mode": {
    "name": "ipython",
    "version": 3
   },
   "file_extension": ".py",
   "mimetype": "text/x-python",
   "name": "python",
   "nbconvert_exporter": "python",
   "pygments_lexer": "ipython3",
   "version": "3.10.4"
  }
 },
 "nbformat": 4,
 "nbformat_minor": 2
}
